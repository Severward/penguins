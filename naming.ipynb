{
 "cells": [
  {
   "cell_type": "code",
   "execution_count": 81,
   "metadata": {
    "collapsed": true
   },
   "outputs": [],
   "source": [
    "# World related words\n",
    "end = ['earth','sphere','field','area','environment','atmosphere','sight','business','arena','scene','medium','milieu','mise en scene','ambiance','climate','surroundings','show','culture','jungle','country','locale','background','landscape','scenery','seascape','setting','view','backdrop','blackout','compass','display','exhibition','flat','flats','locality','location','outlook','pageant','picture','representation','set','site','spectacle','stage','tableau','theater']"
   ]
  },
  {
   "cell_type": "code",
   "execution_count": 119,
   "metadata": {
    "collapsed": true
   },
   "outputs": [],
   "source": [
    "# Mouse related words\n",
    "start = ['mouse','mousing','rat','mice']"
   ]
  },
  {
   "cell_type": "code",
   "execution_count": 84,
   "metadata": {
    "collapsed": false
   },
   "outputs": [
    {
     "data": {
      "text/plain": [
       "['earth', 'sphere', 'field', 'area', 'environment', 'mouse', 'mousing']"
      ]
     },
     "execution_count": 84,
     "metadata": {},
     "output_type": "execute_result"
    }
   ],
   "source": [
    "end[:5] + start[:2]"
   ]
  },
  {
   "cell_type": "markdown",
   "metadata": {},
   "source": [
    "## first simply combine them"
   ]
  },
  {
   "cell_type": "code",
   "execution_count": 14,
   "metadata": {
    "collapsed": false
   },
   "outputs": [
    {
     "data": {
      "text/plain": [
       "['mouseearth', 'mousesphere', 'mousefield', 'mousearea', 'mouseenvironment']"
      ]
     },
     "execution_count": 14,
     "metadata": {},
     "output_type": "execute_result"
    }
   ],
   "source": [
    "[x+y for x in mouse for y in world][:5]"
   ]
  },
  {
   "cell_type": "code",
   "execution_count": 15,
   "metadata": {
    "collapsed": true
   },
   "outputs": [],
   "source": [
    "left_noise = \"\"\"\n",
    "  be bi em en di duo im iso non oct octo out pre quad quadra quadri re\n",
    "  sub tri un uni\n",
    "\"\"\".split()"
   ]
  },
  {
   "cell_type": "code",
   "execution_count": 16,
   "metadata": {
    "collapsed": true
   },
   "outputs": [],
   "source": [
    "right_noise = \"\"\"\n",
    "  ability able adian age an ation d ed en ent er es escent ful ian ic\n",
    "  ies ily iness ing ish ite ize less let log like liness ly ness og\n",
    "  ogy proof r ress ry s ship tion y\n",
    "\"\"\".split()"
   ]
  },
  {
   "cell_type": "markdown",
   "metadata": {},
   "source": [
    "#### Checking whether a word is affixed or compound"
   ]
  },
  {
   "cell_type": "code",
   "execution_count": 46,
   "metadata": {
    "collapsed": true
   },
   "outputs": [],
   "source": [
    "def is_root_word(w):\n",
    "    \"Return true unless w is an affixed or compound word.\"\n",
    "    for ln in left_noise:\n",
    "        if w.startswith(ln) and w[len(ln):] in raw_words:\n",
    "            return False\n",
    "    for rn in right_noise:\n",
    "        if w.endswith(rn) and w[:-len(rn)] in raw_words:\n",
    "            return False\n",
    "    for i in range(2, len(w)-1):\n",
    "        p, s = w[:i], w[i:]\n",
    "        if p in raw_words and s in raw_words:\n",
    "            return False\n",
    "    return True"
   ]
  },
  {
   "cell_type": "code",
   "execution_count": null,
   "metadata": {
    "collapsed": true
   },
   "outputs": [],
   "source": [
    "def group(pairs):\n",
    "    \"\"\"Given (key,value) pairs, return a table mapping each key to a\n",
    "    list of all its values.\"\"\"\n",
    "    table = {}\n",
    "    for k, v in pairs:\n",
    "        table.setdefault(k, []).append(v)\n",
    "    return table"
   ]
  },
  {
   "cell_type": "code",
   "execution_count": 56,
   "metadata": {
    "collapsed": true
   },
   "outputs": [],
   "source": [
    "def all_suffixes(words):\n",
    "    return ((w[i:], w) for w in words for i in range(1, len(w)-3))"
   ]
  },
  {
   "cell_type": "code",
   "execution_count": 62,
   "metadata": {
    "collapsed": true
   },
   "outputs": [],
   "source": [
    "def all_prefixes(words):\n",
    "    return ((w[:i], w) for w in words for i in range(3, len(w)+1))"
   ]
  },
  {
   "cell_type": "code",
   "execution_count": 97,
   "metadata": {
    "collapsed": false
   },
   "outputs": [
    {
     "data": {
      "text/plain": [
       "[('arth', 'earth'),\n",
       " ('phere', 'sphere'),\n",
       " ('here', 'sphere'),\n",
       " ('ield', 'field'),\n",
       " ('nvironment', 'environment')]"
      ]
     },
     "execution_count": 97,
     "metadata": {},
     "output_type": "execute_result"
    }
   ],
   "source": [
    "list(all_suffixes(end))[:5]"
   ]
  },
  {
   "cell_type": "markdown",
   "metadata": {},
   "source": [
    "### Well, let's try at least"
   ]
  },
  {
   "cell_type": "code",
   "execution_count": 85,
   "metadata": {
    "collapsed": true
   },
   "outputs": [],
   "source": [
    "end_words = [w for w in end if is_root_word(w) and 3 < len(w)]"
   ]
  },
  {
   "cell_type": "code",
   "execution_count": 120,
   "metadata": {
    "collapsed": false
   },
   "outputs": [],
   "source": [
    "start_words = [w for w in start if is_root_word(w) and 3 < len(w)]"
   ]
  },
  {
   "cell_type": "code",
   "execution_count": 95,
   "metadata": {
    "collapsed": true
   },
   "outputs": [],
   "source": [
    "suffixes = group(all_suffixes(end_words))"
   ]
  },
  {
   "cell_type": "code",
   "execution_count": 121,
   "metadata": {
    "collapsed": false
   },
   "outputs": [],
   "source": [
    "prefixes = group(all_prefixes(start_words))"
   ]
  },
  {
   "cell_type": "code",
   "execution_count": 128,
   "metadata": {
    "collapsed": false
   },
   "outputs": [],
   "source": [
    "portmanteaus = [p+s for p in prefixes for s in suffixes]"
   ]
  },
  {
   "cell_type": "code",
   "execution_count": 129,
   "metadata": {
    "collapsed": false
   },
   "outputs": [
    {
     "data": {
      "text/plain": [
       "['mousonment', 'mousality', 'mousetting', 'mouslimate', 'mouskdrop']"
      ]
     },
     "execution_count": 129,
     "metadata": {},
     "output_type": "execute_result"
    }
   ],
   "source": [
    "portmanteaus[:5]"
   ]
  },
  {
   "cell_type": "markdown",
   "metadata": {},
   "source": [
    "#### now let's measure quality"
   ]
  },
  {
   "cell_type": "code",
   "execution_count": null,
   "metadata": {
    "collapsed": true
   },
   "outputs": [],
   "source": [
    "def score(s, p, affix):\n",
    "    \"\"\"Return a measure of the quality or interestingness of a\n",
    "    portmanteau. Lower scores are better. A 'good' portmanteau is made\n",
    "    out of common words with a lot of overlap between them.\"\"\"\n",
    "    L = len(s) + len(p) - len(affix)\n",
    "    return -math.log10(pdist.Pw(s) * pdist.Pw(p) * 16**(-float(L)/len(affix)))"
   ]
  },
  {
   "cell_type": "code",
   "execution_count": null,
   "metadata": {
    "collapsed": true
   },
   "outputs": [],
   "source": [
    "L = len(s) + len(p) - len(affix)"
   ]
  },
  {
   "cell_type": "code",
   "execution_count": 130,
   "metadata": {
    "collapsed": false
   },
   "outputs": [
    {
     "data": {
      "text/plain": [
       "{'mic': ['mice'],\n",
       " 'mou': ['mouse', 'mousing'],\n",
       " 'mous': ['mouse', 'mousing'],\n",
       " 'mousi': ['mousing'],\n",
       " 'mousin': ['mousing']}"
      ]
     },
     "execution_count": 130,
     "metadata": {},
     "output_type": "execute_result"
    }
   ],
   "source": [
    "prefixes"
   ]
  },
  {
   "cell_type": "code",
   "execution_count": 137,
   "metadata": {
    "collapsed": false
   },
   "outputs": [
    {
     "name": "stdout",
     "output_type": "stream",
     "text": [
      "mous\n",
      "mousi\n",
      "mic\n",
      "mou\n",
      "mousin\n"
     ]
    }
   ],
   "source": [
    "for p in prefixes:\n",
    "    print p"
   ]
  },
  {
   "cell_type": "code",
   "execution_count": null,
   "metadata": {
    "collapsed": true
   },
   "outputs": [],
   "source": []
  },
  {
   "cell_type": "code",
   "execution_count": null,
   "metadata": {
    "collapsed": true
   },
   "outputs": [],
   "source": [
    "### Let's fucking try to understand it!!!"
   ]
  },
  {
   "cell_type": "code",
   "execution_count": 186,
   "metadata": {
    "collapsed": true
   },
   "outputs": [],
   "source": [
    "def all_prefixes1(words):\n",
    "    return ((w[:i], w) for w in words for i in range(3, len(w)))\n",
    "\n",
    "def all_suffixes1(words):\n",
    "    return ((w[i:], w) for w in words for i in range(1, len(w)-3))"
   ]
  },
  {
   "cell_type": "code",
   "execution_count": 160,
   "metadata": {
    "collapsed": true
   },
   "outputs": [],
   "source": [
    "raw_words = end"
   ]
  },
  {
   "cell_type": "code",
   "execution_count": 190,
   "metadata": {
    "collapsed": true
   },
   "outputs": [],
   "source": [
    "def all_portmanteaus():\n",
    "    words = [w for w in raw_words if is_root_word(w) and 3 < len(w)]\n",
    "    suffixes = group(all_suffixes1(words))\n",
    "    for affix, p in all_prefixes1(words):\n",
    "        if affix in suffixes:\n",
    "            suffix_words = suffixes[affix]\n",
    "            for s in suffix_words:\n",
    "                blend = s + p[len(affix):]\n",
    "                if not is_degenerate_portmanteau(s, p, blend):\n",
    "                    yield score(s, p, affix), (s, p, blend)"
   ]
  },
  {
   "cell_type": "code",
   "execution_count": 180,
   "metadata": {
    "collapsed": true
   },
   "outputs": [],
   "source": [
    "def is_degenerate_portmanteau(s, p, blend):\n",
    "    return p.startswith(s) or s.endswith(p) or blend in raw_words"
   ]
  },
  {
   "cell_type": "code",
   "execution_count": 162,
   "metadata": {
    "collapsed": false
   },
   "outputs": [],
   "source": [
    "words = [w for w in raw_words if is_root_word(w) and 3 < len(w)]"
   ]
  },
  {
   "cell_type": "code",
   "execution_count": 164,
   "metadata": {
    "collapsed": false
   },
   "outputs": [],
   "source": [
    "suffixes = group(all_suffixes1(words))"
   ]
  },
  {
   "cell_type": "code",
   "execution_count": 181,
   "metadata": {
    "collapsed": false
   },
   "outputs": [],
   "source": [
    "for affix in all_prefixes1(words):\n",
    "        if affix in suffixes:\n",
    "            suffix_words = suffixes[affix]"
   ]
  },
  {
   "cell_type": "code",
   "execution_count": 189,
   "metadata": {
    "collapsed": false
   },
   "outputs": [
    {
     "ename": "NameError",
     "evalue": "name 'suffix_words' is not defined",
     "output_type": "error",
     "traceback": [
      "\u001b[1;31m---------------------------------------------------------------------------\u001b[0m",
      "\u001b[1;31mNameError\u001b[0m                                 Traceback (most recent call last)",
      "\u001b[1;32m<ipython-input-189-889c4d177137>\u001b[0m in \u001b[0;36m<module>\u001b[1;34m()\u001b[0m\n\u001b[1;32m----> 1\u001b[1;33m \u001b[0msuffix_words\u001b[0m\u001b[1;33m\u001b[0m\u001b[0m\n\u001b[0m",
      "\u001b[1;31mNameError\u001b[0m: name 'suffix_words' is not defined"
     ]
    }
   ],
   "source": [
    "[p+s for p in prefixes for s in suffixes]"
   ]
  }
 ],
 "metadata": {
  "kernelspec": {
   "display_name": "Python 2",
   "language": "python",
   "name": "python2"
  },
  "language_info": {
   "codemirror_mode": {
    "name": "ipython",
    "version": 2
   },
   "file_extension": ".py",
   "mimetype": "text/x-python",
   "name": "python",
   "nbconvert_exporter": "python",
   "pygments_lexer": "ipython2",
   "version": "2.7.13"
  }
 },
 "nbformat": 4,
 "nbformat_minor": 0
}
